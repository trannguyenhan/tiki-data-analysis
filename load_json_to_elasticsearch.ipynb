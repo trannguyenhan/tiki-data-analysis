{
 "cells": [
  {
   "cell_type": "code",
   "execution_count": 1,
   "id": "c8daf150",
   "metadata": {},
   "outputs": [
    {
     "name": "stdout",
     "output_type": "stream",
     "text": [
      "Collecting Elasticsearch\n",
      "  Downloading elasticsearch-7.13.1-py2.py3-none-any.whl (354 kB)\n",
      "\u001b[K     |████████████████████████████████| 354 kB 1.2 MB/s eta 0:00:01\n",
      "\u001b[?25hRequirement already satisfied: urllib3<2,>=1.21.1 in /usr/lib/python3/dist-packages (from Elasticsearch) (1.25.9)\n",
      "Requirement already satisfied: certifi in /usr/lib/python3/dist-packages (from Elasticsearch) (2020.4.5.1)\n",
      "Installing collected packages: Elasticsearch\n",
      "Successfully installed Elasticsearch-7.13.1\n",
      "Note: you may need to restart the kernel to use updated packages.\n"
     ]
    }
   ],
   "source": [
    "pip install Elasticsearch"
   ]
  },
  {
   "cell_type": "code",
   "execution_count": 1,
   "id": "7d11ae40",
   "metadata": {},
   "outputs": [],
   "source": [
    "import requests, json, os\n",
    "from elasticsearch import Elasticsearch"
   ]
  },
  {
   "cell_type": "code",
   "execution_count": 2,
   "id": "862c0eb5",
   "metadata": {},
   "outputs": [],
   "source": [
    "directory = '/home/trannguyenhan/json-tiki-data'"
   ]
  },
  {
   "cell_type": "code",
   "execution_count": 3,
   "id": "92d5b506",
   "metadata": {},
   "outputs": [
    {
     "name": "stdout",
     "output_type": "stream",
     "text": [
      "b'{\\n  \"name\" : \"PC0628\",\\n  \"cluster_name\" : \"elasticsearch\",\\n  \"cluster_uuid\" : \"KJBvvh7RTXO2WuF2MPO7VA\",\\n  \"version\" : {\\n    \"number\" : \"7.13.1\",\\n    \"build_flavor\" : \"default\",\\n    \"build_type\" : \"deb\",\\n    \"build_hash\" : \"9a7758028e4ea59bcab41c12004603c5a7dd84a9\",\\n    \"build_date\" : \"2021-05-28T17:40:59.346932922Z\",\\n    \"build_snapshot\" : false,\\n    \"lucene_version\" : \"8.8.2\",\\n    \"minimum_wire_compatibility_version\" : \"6.8.0\",\\n    \"minimum_index_compatibility_version\" : \"6.0.0-beta1\"\\n  },\\n  \"tagline\" : \"You Know, for Search\"\\n}\\n'\n"
     ]
    }
   ],
   "source": [
    "res = requests.get('http://localhost:9200')\n",
    "print (res.content)\n",
    "es = Elasticsearch([{'host': 'localhost', 'port': '9200'}])"
   ]
  },
  {
   "cell_type": "code",
   "execution_count": 7,
   "id": "9b7a02b4",
   "metadata": {},
   "outputs": [],
   "source": [
    "i = 1"
   ]
  },
  {
   "cell_type": "code",
   "execution_count": 8,
   "id": "fa73e139",
   "metadata": {},
   "outputs": [
    {
     "name": "stderr",
     "output_type": "stream",
     "text": [
      "/home/trannguyenhan/.local/lib/python3.8/site-packages/elasticsearch/connection/base.py:208: ElasticsearchWarning: Elasticsearch built-in security features are not enabled. Without authentication, your cluster could be accessible to anyone. See https://www.elastic.co/guide/en/elasticsearch/reference/7.13/security-minimal-setup.html to enable security.\n",
      "  warnings.warn(message, category=ElasticsearchWarning)\n",
      "/home/trannguyenhan/.local/lib/python3.8/site-packages/elasticsearch/connection/base.py:208: ElasticsearchWarning: [types removal] Specifying types in document index requests is deprecated, use the typeless endpoints instead (/{index}/_doc/{id}, /{index}/_doc, or /{index}/_create/{id}).\n",
      "  warnings.warn(message, category=ElasticsearchWarning)\n"
     ]
    }
   ],
   "source": [
    "for filename in os.listdir(directory):\n",
    "    if filename.endswith(\".json\"):\n",
    "        f = open(directory + \"/\" + filename)\n",
    "        list_data = f.read().replace(\"}\\n\", \"}||\").split(\"||\")\n",
    "        \n",
    "        # Send the data into es\n",
    "        for data in list_data : \n",
    "            if \"{\" in data and \"}\" in data or data != \"\":\n",
    "                try : \n",
    "                    es.index(index='tiki-data-json', ignore=400, doc_type='data', id=i, body=json.loads(data))\n",
    "                except: \n",
    "                    continue\n",
    "                i = i + 1"
   ]
  }
 ],
 "metadata": {
  "kernelspec": {
   "display_name": "Python 3",
   "language": "python",
   "name": "python3"
  },
  "language_info": {
   "codemirror_mode": {
    "name": "ipython",
    "version": 3
   },
   "file_extension": ".py",
   "mimetype": "text/x-python",
   "name": "python",
   "nbconvert_exporter": "python",
   "pygments_lexer": "ipython3",
   "version": "3.8.6"
  }
 },
 "nbformat": 4,
 "nbformat_minor": 5
}
